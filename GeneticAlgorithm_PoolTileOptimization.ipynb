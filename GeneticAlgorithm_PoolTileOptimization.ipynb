{
 "cells": [
  {
   "attachments": {},
   "cell_type": "markdown",
   "metadata": {
    "id": "nvypwnm4d627"
   },
   "source": [
    "# **Implementación de un Algoritmo Genético**"
   ]
  },
  {
   "attachments": {},
   "cell_type": "markdown",
   "metadata": {
    "id": "0dUKYn2pzAhI"
   },
   "source": [
    "\n",
    "Implementar un algoritmo genético que obtenga las dimensiones de una piscina rectangular, cuyo volumen es 2500 m3, para que sea recubierta por la menor cantidad de azulejos posibles. Se debe tener en cuenta:\n",
    "* La superficie de cada azulejo es 0.5 m2.\n",
    "\n",
    "Restricciones: \n",
    "* El volumen de la piscina puede variar en +/-2% (tolerancia del +/-2%: debe estar entre 2500 - 2% y 2500 + 2%).\n",
    "* La longitud máxima de cada lado de la piscina es de 150m.\n",
    "* La profundidad máxima es de 60m."
   ]
  },
  {
   "attachments": {},
   "cell_type": "markdown",
   "metadata": {},
   "source": [
    "Objetivo: \n",
    "- Minimizar el número de azulejos para construir una piscina de 2500 m3 de volumen. "
   ]
  },
  {
   "attachments": {},
   "cell_type": "markdown",
   "metadata": {
    "id": "jLhyd2EbeVmN"
   },
   "source": [
    "## Librerías"
   ]
  },
  {
   "cell_type": "code",
   "execution_count": 57,
   "metadata": {
    "id": "WCR7cWvEyaZU"
   },
   "outputs": [],
   "source": [
    "import random\n",
    "import copy\n",
    "import multiprocessing \n",
    "import numpy"
   ]
  },
  {
   "attachments": {},
   "cell_type": "markdown",
   "metadata": {
    "id": "aW-3FT9Wedi9"
   },
   "source": [
    "## Creación de la población inicial"
   ]
  },
  {
   "cell_type": "code",
   "execution_count": 58,
   "metadata": {
    "id": "tgHguSe60USc"
   },
   "outputs": [],
   "source": [
    "def build_initial_population(pop_size, ind_length):\n",
    "    return [build_individual(ind_length) for j in range(pop_size)]"
   ]
  },
  {
   "attachments": {},
   "cell_type": "markdown",
   "metadata": {
    "id": "R7CwKLdNVTKM"
   },
   "source": [
    "  #### Inicialización aleatoria de un individuo (cadena binaria)"
   ]
  },
  {
   "cell_type": "code",
   "execution_count": 59,
   "metadata": {
    "id": "0J4w-IzR45fd"
   },
   "outputs": [],
   "source": [
    "def build_individual(length):\n",
    "    ind = {}\n",
    "    # rango de valores de cada var indepe que puede tener cada individuo\n",
    "    ind['chromosome'] = [random.randint(0, max_long) for i in range(length)] # max_long = 150; 0 a 150: en x, y, z, 150 es el valor más alto. \n",
    "\n",
    "    ind['fitness'] = None\n",
    "    return ind"
   ]
  },
  {
   "attachments": {},
   "cell_type": "markdown",
   "metadata": {
    "id": "8dtckhdEehg7"
   },
   "source": [
    "## Evaluación del individuo"
   ]
  },
  {
   "cell_type": "code",
   "execution_count": 60,
   "metadata": {
    "id": "3TetD7lCFlio"
   },
   "outputs": [],
   "source": [
    "def evaluate(pop):\n",
    "    for ind in pop:\n",
    "        ind['fitness'] = fitness(ind)"
   ]
  },
  {
   "attachments": {},
   "cell_type": "markdown",
   "metadata": {
    "id": "kK92Fk2LVQDg"
   },
   "source": [
    "#### Fitness function"
   ]
  },
  {
   "attachments": {},
   "cell_type": "markdown",
   "metadata": {},
   "source": [
    "Definimos dos funciones que imponen restricciones:\n",
    "\n",
    "La función constraint_volume toma un individuo y devuelve 0 si el volumen de la piscina que representa el cromosoma está dentro del rango permitido (definido por el volumen dado +/- el 2%), o la distancia entre el volumen real y el permitido, si no es así. \n",
    "\n",
    "\n",
    "\n"
   ]
  },
  {
   "cell_type": "code",
   "execution_count": 61,
   "metadata": {},
   "outputs": [],
   "source": [
    "def constraint_volume(ind):\n",
    "    # si el volumen (volumen +/- tolerancia) está entre los valores aceptados devuelvo 0 --> no penalización (solución factible)\n",
    "    if volume * 0.98 <= (ind['chromosome'][0] * ind['chromosome'][1] * ind['chromosome'][2]) <= volume * 1.02:\n",
    "        return 0 # no penalty --> feasible solution \n",
    "    \n",
    "    # Unfeasible solution: \n",
    "    # Cuando se incumple el +/- tolerancia sobre el volumen, devolvemos una penalización que sea gradual, relativa a la gravedad de\n",
    "    # cómo estás siendo no factible: no es lo mismo fallar por una unidad que fallar por 200. \n",
    "    else:\n",
    "        # devolvemos el valor menos el volumen deseado\n",
    "        return abs(ind['chromosome'][0] * ind['chromosome'][1] * ind['chromosome'][2] - volume)"
   ]
  },
  {
   "attachments": {},
   "cell_type": "markdown",
   "metadata": {},
   "source": [
    "La función constraint_dimensions evalúa si los valores generados exceden los límites máximos de longitud y profundidad (max_long y max_prof, respectivamente). Si alguna de las dimensiones excede su límite máximo (el individuo viola alguna restricción de dimensiones), la función devuelve la diferencia entre el valor generado y el máximo. Si ninguna dimensión excede su límite máximo, se devuelve 0, lo que significa que el individuo cumple con todas las restricciones de dimensiones."
   ]
  },
  {
   "cell_type": "code",
   "execution_count": 62,
   "metadata": {},
   "outputs": [],
   "source": [
    "def constraint_dimensions(ind):\n",
    "    dist=0\n",
    "    if ind['chromosome'][0] > max_long:\n",
    "        dist = ind ['chromosome'][0] - max_long\n",
    "    if ind['chromosome'][1] > max_long:\n",
    "        dist = ind['chromosome'][1] - max_long\n",
    "    if ind['chromosome'][2] > max_prof:\n",
    "        dist = ind['chromosome'][2] - max_prof\n",
    "    # Avoid\n",
    "    for i in range(0,3):\n",
    "        if ind['chromosome'][i] < 0:\n",
    "            dist = abs(ind['chromosome'][i])\n",
    "    return dist"
   ]
  },
  {
   "attachments": {},
   "cell_type": "markdown",
   "metadata": {},
   "source": [
    "Definimos la función fitness: "
   ]
  },
  {
   "attachments": {},
   "cell_type": "markdown",
   "metadata": {},
   "source": [
    "La función fitness toma un individuo y devuelve la cantidad de azulejos necesarios para cubrir la piscina que representa el cromosoma. \n",
    "\n",
    "\n",
    "En primer lugar, la función comprueba si el individuo es viable, es decir, si cumple las restricciones:\n",
    "\n",
    "\n",
    "- Si el individuo no es viable, devuelve el valor de ajuste calculado como la suma de la distancia entre el volumen real y el permitido y la distancia máxima que cualquiera de las dimensiones supera el valor máximo permitido, más una cantidad adicional calculada como la cantidad máxima de azulejos que serían necesarios para cubrir una piscina con las dimensiones máximas permitidas. \n",
    "\n",
    "\n",
    "- Si el individuo es viable, la función calcula el área de cada una de las cuatro paredes de la piscina, el área de la base, la superficie total de la piscina y el número de azulejos necesarios para cubrir la superficie total de la piscina.\n",
    "\n",
    "Finalmente, la función devuelve el número de azulejos necesarios para cubrir la superficie total de la piscina."
   ]
  },
  {
   "cell_type": "code",
   "execution_count": 63,
   "metadata": {},
   "outputs": [],
   "source": [
    "def fitness(ind):\n",
    "    \n",
    "    # Constraints \n",
    "    c_vol = constraint_volume(ind)\n",
    "    c_dim = constraint_dimensions(ind)\n",
    "    c = c_vol + c_dim\n",
    "\n",
    "    # Unfeasible solution \n",
    "    if c > 0:\n",
    "        # Offset is calculated with the worst case: x, y, z tienen los valores máximos posibles (x=150, y=150, z=60)\n",
    "            # sum of areas / tile area = num max of tiles acceptable: todo lo que vaya por encima son soluciones no factibles\n",
    "        offset = (4 * (max_long * max_long) + (max_long * max_prof)) / surf_tile\n",
    "        return c + offset\n",
    "    \n",
    "    # Feasible solution\n",
    "    else:\n",
    "        # Compute pool area \n",
    "        area_pared_quadrada = ind['chromosome'][0] * ind['chromosome'][2] # x*z\n",
    "        area_pared_rect = ind['chromosome'][1] * ind['chromosome'][2] # y*z\n",
    "        area_base = ind['chromosome'][0] * ind['chromosome'][1] # x*y\n",
    "        area_piscina = 2*area_pared_quadrada + 2*area_pared_rect + area_base\n",
    "        # Compute num tiles\n",
    "        num_tiles =  area_piscina / surf_tile \n",
    "        # return number of tiles\n",
    "        return num_tiles"
   ]
  },
  {
   "attachments": {},
   "cell_type": "markdown",
   "metadata": {
    "id": "7s8712iZekKg"
   },
   "source": [
    "## Tournament selection"
   ]
  },
  {
   "cell_type": "code",
   "execution_count": 64,
   "metadata": {
    "id": "sG3aQSJn0qfZ"
   },
   "outputs": [],
   "source": [
    "def tournament(population, pop_size, k_tournament, optimization):\n",
    "    parents_selected = []\n",
    "    # Seleccionar padres hasta tener el mismo número de individuos que en la población\n",
    "    for i in range(0, pop_size):\n",
    "        parents_selected.append(random_selection(population, k_tournament, optimization))\n",
    "    return parents_selected"
   ]
  },
  {
   "attachments": {},
   "cell_type": "markdown",
   "metadata": {
    "id": "J0dasuHmel8p"
   },
   "source": [
    "#### Selección aleatoria de los mejores individuos"
   ]
  },
  {
   "cell_type": "code",
   "execution_count": 65,
   "metadata": {
    "id": "mY9w08m200EK"
   },
   "outputs": [],
   "source": [
    "def random_selection(population, k_tournament, optimization):\n",
    "    best = None\n",
    "    # Seleccionar k_tournament individuos aleatoriamente\n",
    "    size = int(len(population) * k_tournament)\n",
    "    selected = []\n",
    "    for e in range(0, size):\n",
    "        i = random.randint(0, len(population) - 1)\n",
    "        selected.append(population[i])\n",
    "    # Seleccionar el mejor del conjunto aleatorio\n",
    "    if optimization == 'MIN':\n",
    "        best = list(sorted(selected, reverse=False, key=lambda ind: ind['fitness']))[0]\n",
    "    else:\n",
    "        best = list(sorted(selected, reverse=True, key=lambda ind: ind['fitness']))[0]\n",
    "    return best.copy()"
   ]
  },
  {
   "attachments": {},
   "cell_type": "markdown",
   "metadata": {
    "id": "KALYYaLHen-x"
   },
   "source": [
    "## Crossover"
   ]
  },
  {
   "attachments": {},
   "cell_type": "markdown",
   "metadata": {
    "id": "L6AvLPqeerom"
   },
   "source": [
    "#### Two-point crossover"
   ]
  },
  {
   "cell_type": "code",
   "execution_count": 66,
   "metadata": {
    "id": "BplqYVvf0kXS"
   },
   "outputs": [],
   "source": [
    "def two_point_crossover(father, mother):\n",
    "    index1 = random.randint(1, len(father['chromosome']) - 2)\n",
    "    index2 = random.randint(1, len(father['chromosome']) - 2)\n",
    "    if index1 > index2: index1, index2 = index2, index1\n",
    "    child1 = {}\n",
    "    child2 = {}\n",
    "    child1['chromosome'] = father['chromosome'][:index1] + mother['chromosome'][index1:index2] + father['chromosome'][index2:]\n",
    "    child2['chromosome'] = mother['chromosome'][:index1] + father['chromosome'][index1:index2] + mother['chromosome'][index2:]\n",
    "    child1['fitness'] = None\n",
    "    child2['fitness'] = None\n",
    "    return copy.deepcopy(child1), copy.deepcopy(child2)"
   ]
  },
  {
   "attachments": {},
   "cell_type": "markdown",
   "metadata": {
    "id": "K-smdKBwVEu0"
   },
   "source": [
    "## Mutation"
   ]
  },
  {
   "attachments": {},
   "cell_type": "markdown",
   "metadata": {
    "id": "ofsmkveAjnRs"
   },
   "source": [
    "### Uniform mutation"
   ]
  },
  {
   "cell_type": "code",
   "execution_count": 67,
   "metadata": {
    "id": "VNDEDhne7U6j"
   },
   "outputs": [],
   "source": [
    "def uniform_mutation(individual, prob_mutation):\n",
    "    for i in range(0, len(individual['chromosome'])):\n",
    "        mutate = random.random() < prob_mutation\n",
    "        if mutate:\n",
    "            vary = random.randint(1, max_long)\n",
    "            individual['chromosome'][i] = vary\n",
    "    return individual"
   ]
  },
  {
   "attachments": {},
   "cell_type": "markdown",
   "metadata": {
    "id": "a79UDZLEjqF0"
   },
   "source": [
    "### Gaussian mutation"
   ]
  },
  {
   "cell_type": "code",
   "execution_count": 68,
   "metadata": {
    "id": "o8o_o0DsjQky"
   },
   "outputs": [],
   "source": [
    "def gaussian_mutation(individual, prob_mutation, std=10):\n",
    "    for i in range(0, len(individual['chromosome'])):\n",
    "        mutate = random.random() < prob_mutation\n",
    "        if mutate:\n",
    "            value = int(numpy.random.normal(individual['chromosome'][i], std, 1)[0])\n",
    "            individual['chromosome'][i] = value\n",
    "    return individual"
   ]
  },
  {
   "attachments": {},
   "cell_type": "markdown",
   "metadata": {
    "id": "DptczQlYezNt"
   },
   "source": [
    "## Remplazo de la población"
   ]
  },
  {
   "attachments": {},
   "cell_type": "markdown",
   "metadata": {
    "id": "_Gf1dxk2VJnC"
   },
   "source": [
    "#### Elitismo de la mejor solución"
   ]
  },
  {
   "cell_type": "code",
   "execution_count": 69,
   "metadata": {
    "id": "SEkN4euq8vhS"
   },
   "outputs": [],
   "source": [
    "def update_population(population, new_population, optimization):\n",
    "    if optimization == 'MIN':\n",
    "        new_population = sorted(new_population, reverse=False, key=lambda ind: ind['fitness'])\n",
    "        population = sorted(population, reverse=False, key=lambda ind: ind['fitness'])\n",
    "    else:\n",
    "        new_population = sorted(new_population, reverse=True, key=lambda ind: ind['fitness'])\n",
    "        population = sorted(population, reverse=True, key=lambda ind: ind['fitness'])\n",
    "    new_population[-1] = population[0]\n",
    "    \n",
    "    return new_population"
   ]
  },
  {
   "attachments": {},
   "cell_type": "markdown",
   "metadata": {
    "id": "vdcrqdt4oit2"
   },
   "source": [
    "## Construcción del proceso genético"
   ]
  },
  {
   "cell_type": "code",
   "execution_count": 75,
   "metadata": {},
   "outputs": [
    {
     "name": "stdout",
     "output_type": "stream",
     "text": [
      "Generación 0 : fitness 198363.0  -  [2, 16, 67]\n",
      "Generación 1 : fitness 198170.0  -  [2, 19, 70]\n",
      "Generación 2 : fitness 198006.0  -  [2, 19, 66]\n",
      "Generación 3 : fitness 198006.0  -  [2, 19, 66]\n",
      "Generación 4 : fitness 198006.0  -  [2, 19, 66]\n",
      "Generación 5 : fitness 198006.0  -  [2, 19, 66]\n",
      "Generación 6 : fitness 198005.0  -  [2, 19, 65]\n",
      "Generación 7 : fitness 198005.0  -  [2, 19, 65]\n",
      "Generación 8 : fitness 198003.0  -  [2, 20, 63]\n",
      "Generación 9 : fitness 198002.0  -  [2, 20, 62]\n",
      "Generación 10 : fitness 198002.0  -  [2, 20, 62]\n",
      "Generación 11 : fitness 198002.0  -  [2, 20, 62]\n",
      "Generación 12 : fitness 198002.0  -  [2, 20, 62]\n",
      "Generación 13 : fitness 198002.0  -  [2, 20, 62]\n",
      "Generación 14 : fitness 5604.0  -  [2, 21, 60]\n",
      "Generación 15 : fitness 5604.0  -  [2, 21, 60]\n",
      "Generación 16 : fitness 5512.0  -  [2, 21, 59]\n",
      "Generación 17 : fitness 5512.0  -  [2, 21, 59]\n",
      "Generación 18 : fitness 5512.0  -  [2, 21, 59]\n",
      "Generación 19 : fitness 5512.0  -  [2, 21, 59]\n",
      "Generación 20 : fitness 5512.0  -  [2, 21, 59]\n",
      "Generación 21 : fitness 5512.0  -  [2, 21, 59]\n",
      "Generación 22 : fitness 5512.0  -  [2, 21, 59]\n",
      "Generación 23 : fitness 5512.0  -  [2, 21, 59]\n",
      "Generación 24 : fitness 5512.0  -  [2, 21, 59]\n",
      "Generación 25 : fitness 5512.0  -  [2, 21, 59]\n",
      "Generación 26 : fitness 5512.0  -  [2, 21, 59]\n",
      "Generación 27 : fitness 5512.0  -  [2, 21, 59]\n",
      "Generación 28 : fitness 5512.0  -  [2, 21, 59]\n",
      "Generación 29 : fitness 5512.0  -  [2, 21, 59]\n",
      "Generación 30 : fitness 5512.0  -  [2, 21, 59]\n",
      "Generación 31 : fitness 5512.0  -  [2, 21, 59]\n",
      "Generación 32 : fitness 4164.0  -  [3, 14, 60]\n",
      "Generación 33 : fitness 4164.0  -  [3, 14, 60]\n",
      "Generación 34 : fitness 4050.0  -  [3, 15, 55]\n",
      "Generación 35 : fitness 4050.0  -  [3, 15, 55]\n",
      "Generación 36 : fitness 4050.0  -  [3, 15, 55]\n",
      "Generación 37 : fitness 4050.0  -  [3, 15, 55]\n",
      "Generación 38 : fitness 4050.0  -  [3, 15, 55]\n",
      "Generación 39 : fitness 4050.0  -  [3, 15, 55]\n",
      "Generación 40 : fitness 4050.0  -  [3, 15, 55]\n",
      "Generación 41 : fitness 4048.0  -  [3, 16, 52]\n",
      "Generación 42 : fitness 4048.0  -  [3, 16, 52]\n",
      "Generación 43 : fitness 4048.0  -  [3, 16, 52]\n",
      "Generación 44 : fitness 4048.0  -  [3, 16, 52]\n",
      "Generación 45 : fitness 4048.0  -  [3, 16, 52]\n",
      "Generación 46 : fitness 4048.0  -  [3, 16, 52]\n",
      "Generación 47 : fitness 4048.0  -  [3, 16, 52]\n",
      "Generación 48 : fitness 4048.0  -  [3, 16, 52]\n",
      "Generación 49 : fitness 4048.0  -  [3, 16, 52]\n",
      "Generación 50 : fitness 3508.0  -  [4, 11, 57]\n",
      "Generación 51 : fitness 3508.0  -  [4, 11, 57]\n",
      "Generación 52 : fitness 3508.0  -  [4, 11, 57]\n",
      "Generación 53 : fitness 3448.0  -  [4, 11, 56]\n",
      "Generación 54 : fitness 3448.0  -  [4, 11, 56]\n",
      "Generación 55 : fitness 3424.0  -  [4, 12, 52]\n",
      "Generación 56 : fitness 3424.0  -  [4, 12, 52]\n",
      "Generación 57 : fitness 3424.0  -  [4, 12, 52]\n",
      "Generación 58 : fitness 3424.0  -  [4, 12, 52]\n",
      "Generación 59 : fitness 3424.0  -  [4, 12, 52]\n",
      "Generación 60 : fitness 3424.0  -  [4, 12, 52]\n",
      "Generación 61 : fitness 3424.0  -  [4, 12, 52]\n",
      "Generación 62 : fitness 3424.0  -  [4, 12, 52]\n",
      "Generación 63 : fitness 3424.0  -  [4, 12, 52]\n",
      "Generación 64 : fitness 3424.0  -  [4, 12, 52]\n",
      "Generación 65 : fitness 3424.0  -  [4, 12, 52]\n",
      "Generación 66 : fitness 3424.0  -  [4, 12, 52]\n",
      "Generación 67 : fitness 3008.0  -  [8, 6, 52]\n",
      "Generación 68 : fitness 3008.0  -  [8, 6, 52]\n",
      "Generación 69 : fitness 3008.0  -  [8, 6, 52]\n",
      "Generación 70 : fitness 3008.0  -  [8, 6, 52]\n",
      "Generación 71 : fitness 3008.0  -  [8, 6, 52]\n",
      "Generación 72 : fitness 3008.0  -  [8, 6, 52]\n",
      "Generación 73 : fitness 2868.0  -  [9, 6, 46]\n",
      "Generación 74 : fitness 2868.0  -  [9, 6, 46]\n",
      "Generación 75 : fitness 2868.0  -  [9, 6, 46]\n",
      "Generación 76 : fitness 2868.0  -  [9, 6, 46]\n",
      "Generación 77 : fitness 2868.0  -  [9, 6, 46]\n",
      "Generación 78 : fitness 2868.0  -  [9, 6, 46]\n",
      "Generación 79 : fitness 2868.0  -  [9, 6, 46]\n",
      "Generación 80 : fitness 2868.0  -  [9, 6, 46]\n",
      "Generación 81 : fitness 2868.0  -  [9, 6, 46]\n",
      "Generación 82 : fitness 2868.0  -  [9, 6, 46]\n",
      "Generación 83 : fitness 2868.0  -  [9, 6, 46]\n",
      "Generación 84 : fitness 2868.0  -  [9, 6, 46]\n",
      "Generación 85 : fitness 2868.0  -  [9, 6, 46]\n",
      "Generación 86 : fitness 2686.0  -  [9, 7, 40]\n",
      "Generación 87 : fitness 2622.0  -  [9, 7, 39]\n",
      "Generación 88 : fitness 2622.0  -  [9, 7, 39]\n",
      "Generación 89 : fitness 2622.0  -  [9, 7, 39]\n",
      "Generación 90 : fitness 2622.0  -  [9, 7, 39]\n",
      "Generación 91 : fitness 2622.0  -  [9, 7, 39]\n",
      "Generación 92 : fitness 2622.0  -  [9, 7, 39]\n",
      "Generación 93 : fitness 2622.0  -  [9, 7, 39]\n",
      "Generación 94 : fitness 2622.0  -  [7, 9, 39]\n",
      "Generación 95 : fitness 2588.0  -  [10, 7, 36]\n",
      "Generación 96 : fitness 2520.0  -  [10, 7, 35]\n",
      "Generación 97 : fitness 2520.0  -  [10, 7, 35]\n",
      "Generación 98 : fitness 2520.0  -  [10, 7, 35]\n",
      "Generación 99 : fitness 2392.0  -  [10, 8, 31]\n",
      "Generación 100 : fitness 2392.0  -  [10, 8, 31]\n",
      "Generación 101 : fitness 2342.0  -  [13, 7, 27]\n",
      "Generación 102 : fitness 2342.0  -  [13, 7, 27]\n",
      "Generación 103 : fitness 2342.0  -  [13, 7, 27]\n",
      "Generación 104 : fitness 2342.0  -  [13, 7, 27]\n",
      "Generación 105 : fitness 2342.0  -  [13, 7, 27]\n",
      "Generación 106 : fitness 2342.0  -  [13, 7, 27]\n",
      "Generación 107 : fitness 2342.0  -  [13, 7, 27]\n",
      "Generación 108 : fitness 2342.0  -  [13, 7, 27]\n",
      "Generación 109 : fitness 2342.0  -  [13, 7, 27]\n",
      "Generación 110 : fitness 2248.0  -  [16, 7, 22]\n",
      "Generación 111 : fitness 2248.0  -  [16, 7, 22]\n",
      "Generación 112 : fitness 2248.0  -  [16, 7, 22]\n",
      "Generación 113 : fitness 2248.0  -  [16, 7, 22]\n",
      "Generación 114 : fitness 2224.0  -  [20, 7, 18]\n",
      "Generación 115 : fitness 2224.0  -  [20, 7, 18]\n",
      "Generación 116 : fitness 2224.0  -  [20, 7, 18]\n",
      "Generación 117 : fitness 2224.0  -  [20, 7, 18]\n",
      "Generación 118 : fitness 2224.0  -  [20, 7, 18]\n",
      "Generación 119 : fitness 2224.0  -  [20, 7, 18]\n",
      "Generación 120 : fitness 2224.0  -  [20, 7, 18]\n",
      "Generación 121 : fitness 2224.0  -  [20, 7, 18]\n",
      "Generación 122 : fitness 2224.0  -  [20, 7, 18]\n",
      "Generación 123 : fitness 2224.0  -  [20, 7, 18]\n",
      "Generación 124 : fitness 2224.0  -  [20, 7, 18]\n",
      "Generación 125 : fitness 2224.0  -  [20, 7, 18]\n",
      "Generación 126 : fitness 2146.0  -  [27, 7, 13]\n",
      "Generación 127 : fitness 2146.0  -  [27, 7, 13]\n",
      "Generación 128 : fitness 2146.0  -  [27, 7, 13]\n",
      "Generación 129 : fitness 1822.0  -  [27, 13, 7]\n",
      "Generación 130 : fitness 1822.0  -  [27, 13, 7]\n",
      "Generación 131 : fitness 1822.0  -  [27, 13, 7]\n",
      "Generación 132 : fitness 1792.0  -  [25, 14, 7]\n",
      "Generación 133 : fitness 1792.0  -  [25, 14, 7]\n",
      "Generación 134 : fitness 1792.0  -  [25, 14, 7]\n",
      "Generación 135 : fitness 1792.0  -  [25, 14, 7]\n",
      "Generación 136 : fitness 1792.0  -  [25, 14, 7]\n",
      "Generación 137 : fitness 1792.0  -  [25, 14, 7]\n",
      "Generación 138 : fitness 1792.0  -  [25, 14, 7]\n",
      "Generación 139 : fitness 1792.0  -  [25, 14, 7]\n",
      "Generación 140 : fitness 1792.0  -  [25, 14, 7]\n",
      "Generación 141 : fitness 1792.0  -  [25, 14, 7]\n",
      "Generación 142 : fitness 1792.0  -  [25, 14, 7]\n",
      "Generación 143 : fitness 1792.0  -  [25, 14, 7]\n",
      "Generación 144 : fitness 1792.0  -  [25, 14, 7]\n",
      "Generación 145 : fitness 1792.0  -  [25, 14, 7]\n",
      "Generación 146 : fitness 1768.0  -  [22, 16, 7]\n",
      "Generación 147 : fitness 1768.0  -  [22, 16, 7]\n",
      "Generación 148 : fitness 1768.0  -  [22, 16, 7]\n",
      "Generación 149 : fitness 1768.0  -  [22, 16, 7]\n",
      "Generación 150 : fitness 1768.0  -  [22, 16, 7]\n",
      "Generación 151 : fitness 1768.0  -  [22, 16, 7]\n",
      "Generación 152 : fitness 1768.0  -  [22, 16, 7]\n",
      "Generación 153 : fitness 1768.0  -  [22, 16, 7]\n",
      "Generación 154 : fitness 1768.0  -  [22, 16, 7]\n",
      "Generación 155 : fitness 1768.0  -  [22, 16, 7]\n",
      "Generación 156 : fitness 1768.0  -  [22, 16, 7]\n",
      "Generación 157 : fitness 1768.0  -  [22, 16, 7]\n",
      "Generación 158 : fitness 1768.0  -  [22, 16, 7]\n",
      "Generación 159 : fitness 1768.0  -  [22, 16, 7]\n",
      "Generación 160 : fitness 1768.0  -  [22, 16, 7]\n",
      "Generación 161 : fitness 1768.0  -  [22, 16, 7]\n",
      "Generación 162 : fitness 1768.0  -  [22, 16, 7]\n",
      "Generación 163 : fitness 1768.0  -  [22, 16, 7]\n",
      "Generación 164 : fitness 1768.0  -  [22, 16, 7]\n",
      "Generación 165 : fitness 1768.0  -  [22, 14, 8]\n",
      "Generación 166 : fitness 1768.0  -  [22, 16, 7]\n",
      "Generación 167 : fitness 1768.0  -  [22, 16, 7]\n",
      "Generación 168 : fitness 1768.0  -  [22, 14, 8]\n",
      "Generación 169 : fitness 1768.0  -  [22, 14, 8]\n",
      "Generación 170 : fitness 1768.0  -  [22, 14, 8]\n",
      "Generación 171 : fitness 1768.0  -  [22, 16, 7]\n",
      "Generación 172 : fitness 1768.0  -  [22, 16, 7]\n",
      "Generación 173 : fitness 1768.0  -  [22, 16, 7]\n",
      "Generación 174 : fitness 1768.0  -  [22, 16, 7]\n",
      "Generación 175 : fitness 1768.0  -  [22, 16, 7]\n",
      "Generación 176 : fitness 1768.0  -  [22, 16, 7]\n",
      "Generación 177 : fitness 1768.0  -  [22, 16, 7]\n",
      "Generación 178 : fitness 1768.0  -  [22, 16, 7]\n",
      "Generación 179 : fitness 1768.0  -  [22, 16, 7]\n",
      "Generación 180 : fitness 1768.0  -  [22, 16, 7]\n",
      "Generación 181 : fitness 1768.0  -  [22, 16, 7]\n",
      "Generación 182 : fitness 1768.0  -  [22, 16, 7]\n",
      "Generación 183 : fitness 1768.0  -  [22, 16, 7]\n",
      "Generación 184 : fitness 1768.0  -  [22, 16, 7]\n",
      "Generación 185 : fitness 1768.0  -  [22, 16, 7]\n",
      "Generación 186 : fitness 1768.0  -  [22, 16, 7]\n",
      "Generación 187 : fitness 1768.0  -  [22, 16, 7]\n",
      "Generación 188 : fitness 1768.0  -  [22, 16, 7]\n",
      "Generación 189 : fitness 1768.0  -  [22, 16, 7]\n",
      "Generación 190 : fitness 1768.0  -  [22, 16, 7]\n",
      "Generación 191 : fitness 1768.0  -  [22, 16, 7]\n",
      "Generación 192 : fitness 1768.0  -  [22, 16, 7]\n",
      "Generación 193 : fitness 1768.0  -  [22, 16, 7]\n",
      "Generación 194 : fitness 1768.0  -  [22, 16, 7]\n",
      "Generación 195 : fitness 1768.0  -  [22, 16, 7]\n",
      "Generación 196 : fitness 1768.0  -  [22, 16, 7]\n",
      "Generación 197 : fitness 1768.0  -  [22, 16, 7]\n",
      "Generación 198 : fitness 1768.0  -  [22, 16, 7]\n",
      "Generación 199 : fitness 1768.0  -  [22, 16, 7]\n"
     ]
    }
   ],
   "source": [
    "# Parámetros\n",
    "pop_size = 100\n",
    "ind_length = 3 # cada uno de los lados (x, y, z) --> var independientes\n",
    "max_generations = 200\n",
    "k_tournament = 0.3\n",
    "optimization = 'MIN' # Minimizar el número de valdosas o azulejos para construir una piscina de 2500 m3 de volumen. \n",
    "prob_crossover = 0.9\n",
    "prob_mutation = 1 / ind_length\n",
    "\n",
    "global volume, surf_tile, max_long, max_prof\n",
    "volume = 2500 #[m3] Volumen piscina\n",
    "surf_tile = 0.5 #[m2] Superficie del azulejo\n",
    "max_long = 150 #[m] Máxima longitud de cada lado\n",
    "max_prof = 60 #[m] Máxima profundidad\n",
    "\n",
    "# Inicialización de la población\n",
    "population = build_initial_population(pop_size, ind_length)\n",
    "\n",
    "# Evaluación de los individuos\n",
    "evaluate(population)\n",
    "\n",
    "# Bucle genético (criterio de finalización)\n",
    "for generation in range(0, max_generations):\n",
    "    # Selección de padres\n",
    "    parents_selected = tournament(population, pop_size, k_tournament, optimization)\n",
    "    # Cruce de los padres\n",
    "    i = 0\n",
    "    new_population = []\n",
    "    while i < len(parents_selected):\n",
    "        if random.random() < prob_crossover:\n",
    "            child1, child2 = two_point_crossover(parents_selected[i], parents_selected[i+1])\n",
    "        else:\n",
    "            child1 = copy.deepcopy(parents_selected[i])\n",
    "            child2 = copy.deepcopy(parents_selected[i+1])\n",
    "        new_population.append(child1)\n",
    "        new_population.append(child2)\n",
    "        i = i + 2\n",
    "    #Mutación de los hijos\n",
    "    for ch in new_population:\n",
    "        #Elegir tipo de mutación\n",
    "        #uniform_mutation(ch, prob_mutation)\n",
    "        gaussian_mutation(ch, prob_mutation, std=5)\n",
    "    #Evaluación de los hijos\n",
    "    evaluate(new_population)\n",
    "    #Remplazar la población\n",
    "    population = update_population(population, new_population, optimization)          \n",
    "    if optimization == 'MIN':\n",
    "        best = list(sorted(population, reverse=False, key=lambda ind: ind['fitness']))[0]\n",
    "    else:\n",
    "        best = list(sorted(population, reverse=True, key=lambda ind: ind['fitness']))[0]\n",
    "    print(\"Generación\", generation, \": fitness\", best['fitness'], \" - \", best['chromosome'])"
   ]
  },
  {
   "cell_type": "code",
   "execution_count": 88,
   "metadata": {},
   "outputs": [
    {
     "data": {
      "text/plain": [
       "2464"
      ]
     },
     "execution_count": 88,
     "metadata": {},
     "output_type": "execute_result"
    }
   ],
   "source": [
    "vol = 22 * 16 * 7\n",
    "vol"
   ]
  },
  {
   "cell_type": "code",
   "execution_count": 94,
   "metadata": {},
   "outputs": [
    {
     "name": "stdout",
     "output_type": "stream",
     "text": [
      "Volume OK\n"
     ]
    }
   ],
   "source": [
    "high_margin = 2500 + 2500*0.02 # 2550\n",
    "low_margin = 2500 - 2500*0.02 # 2450\n",
    "\n",
    "if (vol <= high_margin) and (vol >= low_margin):\n",
    "    print('Volume OK')\n",
    "else: \n",
    "    print('Volume NO OK')\n"
   ]
  },
  {
   "cell_type": "code",
   "execution_count": 87,
   "metadata": {},
   "outputs": [
    {
     "name": "stdout",
     "output_type": "stream",
     "text": [
      "num_tiles 1768.0\n"
     ]
    }
   ],
   "source": [
    "# Compute pool area \n",
    "area_pared_quadrada = 22*7  # x*z\n",
    "area_pared_rect = 16*7 # y*z\n",
    "area_base = 22*16 # x*y\n",
    "area_piscina = 2*area_pared_quadrada + 2*area_pared_rect + area_base\n",
    "# Compute num tiles\n",
    "num_tiles =  area_piscina / surf_tile\n",
    "\n",
    "print('num_tiles',num_tiles)"
   ]
  },
  {
   "attachments": {},
   "cell_type": "markdown",
   "metadata": {},
   "source": [
    "## Discusión de resultados y Conclusiones "
   ]
  },
  {
   "attachments": {},
   "cell_type": "markdown",
   "metadata": {},
   "source": [
    "El resultado muestra que la mejor solución encontrada por el algoritmo genético tras 199 generaciones tiene un valor fitness de 1768, que representa el número de azulejos necesarios para cubrir la piscina, y las dimensiones de la piscina son [22, 16, 7].\n",
    "\n",
    "Las dimensiones de la piscina se representan como una lista de tres valores [longitud, anchura, profundidad], en metros. En este caso, la longitud (x) es de 22 metros, la anchura (y) de 16 metros y la profundidad (z) de 7 metros. Estas dimensiones dan como resultado un volumen de piscina de 2464 m3, que está dentro del margen de tolerancia de +/-2% de 2500 m3.\n",
    "\n",
    "El valor fitness es 1768, lo que significa que la mejor solución encontrada por el algoritmo genético requiere 1768 azulejos para cubrir la superficie de la piscina.\n",
    "\n",
    "En conclusión, el algoritmo genético ha optimizado con éxito las dimensiones de la piscina rectangular para minimizar el número de azulejos necesarios para cubrir su superficie, satisfaciendo al mismo tiempo las restricciones y limitaciones dadas.\n"
   ]
  }
 ],
 "metadata": {
  "accelerator": "GPU",
  "colab": {
   "collapsed_sections": [
    "ykvd0oCaFxyh"
   ],
   "provenance": []
  },
  "kernelspec": {
   "display_name": "Python 3 (ipykernel)",
   "language": "python",
   "name": "python3"
  },
  "language_info": {
   "codemirror_mode": {
    "name": "ipython",
    "version": 3
   },
   "file_extension": ".py",
   "mimetype": "text/x-python",
   "name": "python",
   "nbconvert_exporter": "python",
   "pygments_lexer": "ipython3",
   "version": "3.10.6"
  }
 },
 "nbformat": 4,
 "nbformat_minor": 4
}
